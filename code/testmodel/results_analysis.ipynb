{
 "cells": [
  {
   "cell_type": "markdown",
   "metadata": {},
   "source": [
    "rsync -P \"bigboi:/home/dgrandesso/ecg_ptbxl_benchmarking/output.zip\" .\n"
   ]
  },
  {
   "cell_type": "code",
   "execution_count": null,
   "metadata": {},
   "outputs": [],
   "source": []
  }
 ],
 "metadata": {
  "language_info": {
   "name": "python"
  }
 },
 "nbformat": 4,
 "nbformat_minor": 2
}
