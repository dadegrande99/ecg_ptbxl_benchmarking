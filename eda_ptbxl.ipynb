{
 "cells": [
  {
   "cell_type": "markdown",
   "metadata": {},
   "source": [
    "# Explorative Data Analysis PTB-XL\n",
    "\n",
    "Exploratory analysis of the [PTB-XL dataset](https://physionet.org/content/ptb-xl/1.0.1/)."
   ]
  },
  {
   "cell_type": "markdown",
   "metadata": {},
   "source": [
    "## Import"
   ]
  },
  {
   "cell_type": "markdown",
   "metadata": {},
   "source": [
    "### Library import"
   ]
  },
  {
   "cell_type": "code",
   "execution_count": null,
   "metadata": {},
   "outputs": [],
   "source": [
    "import pandas as pd\n",
    "import numpy as np\n",
    "import wfdb\n",
    "import ast\n",
    "from tqdm import tqdm\n",
    "import warnings; warnings.filterwarnings('ignore')\n",
    "from IPython.display import display\n",
    "\n",
    "import matplotlib.pyplot as plt\n",
    "import seaborn as sns"
   ]
  },
  {
   "cell_type": "code",
   "execution_count": null,
   "metadata": {},
   "outputs": [],
   "source": [
    "plt.style.use([s for s in plt.style.available if 'whitegrid' in s][0])\n",
    "plt.rcParams['figure.figsize'] = [16, 9]\n",
    "plt.rcParams['figure.dpi'] = 100"
   ]
  },
  {
   "cell_type": "markdown",
   "metadata": {},
   "source": [
    "### Data import "
   ]
  },
  {
   "cell_type": "code",
   "execution_count": null,
   "metadata": {},
   "outputs": [],
   "source": [
    "def load_raw_data(df, sampling_rate, path):\n",
    "    if sampling_rate == 100:\n",
    "        data = [wfdb.rdsamp(path+f) for f in tqdm(df.filename_lr)]\n",
    "    else:\n",
    "        data = [wfdb.rdsamp(path+f) for f in tqdm(df.filename_hr)]\n",
    "    data = np.array([signal for signal, meta in data])\n",
    "    return data\n",
    "\n",
    "path = \"data/ptbxl/\"\n",
    "sampling_rate=100\n",
    "\n",
    "# load and convert annotation data\n",
    "ptbxl = pd.read_csv(path+'ptbxl_database.csv', index_col='ecg_id')\n",
    "ptbxl.scp_codes = ptbxl.scp_codes.apply(lambda x: ast.literal_eval(x))\n",
    "\n",
    "# Load raw signal data\n",
    "raw = load_raw_data(ptbxl, sampling_rate, path)\n",
    "\n",
    "print('data shpae:', raw.shape)\n",
    "print(ptbxl[['scp_codes']])\n",
    "ptbxl.head()"
   ]
  },
  {
   "cell_type": "code",
   "execution_count": null,
   "metadata": {},
   "outputs": [],
   "source": [
    "ptbxl.columns"
   ]
  },
  {
   "cell_type": "code",
   "execution_count": null,
   "metadata": {},
   "outputs": [],
   "source": [
    "# Load scp_statements.csv for diagnostic aggregation\n",
    "agg_df = pd.read_csv(path+'scp_statements.csv', index_col=0)\n",
    "agg_df = agg_df[agg_df.diagnostic == 1]\n",
    "print(agg_df.shape)\n",
    "print(agg_df.columns)\n",
    "agg_df.head()"
   ]
  },
  {
   "cell_type": "code",
   "execution_count": null,
   "metadata": {},
   "outputs": [],
   "source": [
    "new_columns = agg_df[\"diagnostic_class\"].unique().tolist()\n",
    "print(new_columns)\n",
    "for el in new_columns:\n",
    "    ptbxl[el] = 0\n",
    "ptbxl['diagnostic_superclass_len'] = 0\n",
    "print(ptbxl.columns, \"\\n\")\n",
    "\n",
    "for ecg_id in ptbxl.index:\n",
    "    for item in ptbxl.loc[ecg_id].scp_codes:\n",
    "        if (item in agg_df.index) and (ptbxl.loc[ecg_id, agg_df.loc[item].diagnostic_class] == 0):\n",
    "            ptbxl.at[ecg_id, agg_df.loc[item].diagnostic_class] = 1\n",
    "            ptbxl.at[ecg_id, 'diagnostic_superclass_len'] += 1\n",
    "\n",
    "counts = ptbxl[new_columns].sum()\n",
    "print(counts)\n",
    "\n",
    "print(\"\\nTotal:\", counts.sum())\n",
    "print(\"\\nTotal patients:\", len(ptbxl))\n",
    "print(f'{counts.sum()/len(ptbxl)*100:.2f}%')"
   ]
  },
  {
   "cell_type": "markdown",
   "metadata": {},
   "source": [
    "- NORM: Normal\n",
    "- MI: Myocardial Infarction\n",
    "- STTC: ST-T wave abnormality\n",
    "- CD: Cardiomyopathy\n",
    "- HYP: Hypertrophy"
   ]
  },
  {
   "cell_type": "code",
   "execution_count": null,
   "metadata": {},
   "outputs": [],
   "source": [
    "plt.figure(figsize=(10, 6))\n",
    "ax = sns.barplot(x=counts.index, y=counts.values, palette='gray')\n",
    "\n",
    "total = counts.sum()\n",
    "for i, v in enumerate(counts):\n",
    "    ax.text(i, v + 50, f'{v}', ha='center', va='bottom', fontsize=10)\n",
    "\n",
    "plt.title('Distribution of new_columns')\n",
    "plt.xlabel('Columns')\n",
    "plt.ylabel('Number of cases')\n",
    "\n",
    "plt.show()"
   ]
  },
  {
   "cell_type": "code",
   "execution_count": null,
   "metadata": {},
   "outputs": [],
   "source": [
    "vc = ptbxl['diagnostic_superclass_len'].value_counts()\n",
    "\n",
    "bar,ax = plt.subplots(figsize=(10,6))\n",
    "ax = sns.barplot(x=vc.values/vc.values.sum()*100., y=vc.index, ci=None, palette=\"gray\",orient='h' )\n",
    "ax.set_title(\"Diagnostic Superclass Len Distribution\", fontsize=20)\n",
    "ax.set_xlabel (\"percentage over all samples\")\n",
    "ax.set_ylabel (\"\")\n",
    "for rect in ax.patches:\n",
    "    ax.text (rect.get_width(), rect.get_y() + rect.get_height() / 2,\"%.1f%%\"% rect.get_width(), weight='bold' )"
   ]
  },
  {
   "cell_type": "markdown",
   "metadata": {},
   "source": [
    "### Sex"
   ]
  },
  {
   "cell_type": "code",
   "execution_count": null,
   "metadata": {},
   "outputs": [],
   "source": [
    "ptbxl['sex'] = ptbxl['sex'].replace({0: 'Male', 1: 'Female'})"
   ]
  },
  {
   "cell_type": "code",
   "execution_count": null,
   "metadata": {},
   "outputs": [],
   "source": [
    "counts = ptbxl['sex'].value_counts()\n",
    "\n",
    "bars = plt.bar(counts.index, counts.values, color=['black', 'gray'])\n",
    "\n",
    "plt.title('Distribution by sex')\n",
    "plt.xlabel('Sex')\n",
    "plt.ylabel('Number of cases')\n",
    "\n",
    "total = counts.sum()\n",
    "for bar in bars:\n",
    "    yval = bar.get_height()\n",
    "    plt.text(bar.get_x() + bar.get_width()/2, yval + 50, f'{(yval/total)*100:.1f}%', ha='center', va='bottom')\n",
    "\n",
    "plt.show()"
   ]
  },
  {
   "cell_type": "code",
   "execution_count": null,
   "metadata": {},
   "outputs": [],
   "source": [
    "# Calcola il conteggio di ciascuna malattia per genere\n",
    "counts = ptbxl.groupby('sex')[new_columns].sum().T\n",
    "\n",
    "# Crea il grafico a barre orizzontale utilizzando pandas\n",
    "ax = counts.plot.barh(color=['gray', 'black'], figsize=(12,6))\n",
    "\n",
    "# Aggiungi titoli e etichette agli assi\n",
    "plt.title('Distribution of diseases by gender')\n",
    "plt.xlabel('Number of cases')\n",
    "plt.ylabel('Diseases')\n",
    "\n",
    "# Calcola le percentuali e aggiungi a fianco delle barre\n",
    "for p in ax.patches:\n",
    "    width = p.get_width()\n",
    "    height = p.get_height()\n",
    "    x, y = p.get_xy() \n",
    "    ax.annotate(f'{width/counts.sum().sum()*100:.1f}%', (x + width + 10, y + height/2), va='center')\n",
    "\n",
    "# Mostra il grafico\n",
    "plt.show()"
   ]
  },
  {
   "cell_type": "markdown",
   "metadata": {},
   "source": [
    "### Age"
   ]
  },
  {
   "cell_type": "code",
   "execution_count": null,
   "metadata": {},
   "outputs": [],
   "source": [
    "import seaborn as sns\n",
    "\n",
    "# Crea il distplot utilizzando seaborn\n",
    "sns.distplot(ptbxl['age'], kde=True, color='gray')\n",
    "\n",
    "# Aggiungi titoli e etichette agli assi\n",
    "plt.title('Age distribution')\n",
    "plt.xlabel('Age')\n",
    "plt.ylabel('Number of cases')\n",
    "\n",
    "# Mostra il grafico\n",
    "plt.show()"
   ]
  },
  {
   "cell_type": "code",
   "execution_count": null,
   "metadata": {},
   "outputs": [],
   "source": [
    "# Ristruttura i dati in modo che ogni riga rappresenti un singolo caso di malattia\n",
    "data = pd.melt(ptbxl, id_vars='age', value_vars=new_columns, var_name='disease', value_name='case')\n",
    "\n",
    "# Filtra solo i casi di malattia\n",
    "data = data[data['case'] == 1]\n",
    "\n",
    "# Crea il kdeplot utilizzando seaborn\n",
    "fig, ax1 = plt.subplots(figsize=(12, 6))\n",
    "sns.kdeplot(data=data, x='age', hue='disease', ax=ax1, palette='gray')\n",
    "\n",
    "# Crea un secondo asse y e crea un istogramma della distribuzione dell'età\n",
    "ax2 = ax1.twinx()\n",
    "sns.histplot(ptbxl['age'], color='gray', ax=ax2, edgecolor=None)\n",
    "\n",
    "# Aggiungi titoli e etichette agli assi\n",
    "ax1.set_title('Age distribution of diseases')\n",
    "ax1.set_xlabel('Age')\n",
    "ax1.set_ylabel('Density')\n",
    "ax2.set_ylabel('Number of cases')\n",
    "\n",
    "# Mostra solo la griglia per l'asse y del secondo asse\n",
    "ax2.grid(False)\n",
    "\n",
    "# Mostra il grafico\n",
    "plt.show()"
   ]
  },
  {
   "cell_type": "markdown",
   "metadata": {},
   "source": [
    "### Height"
   ]
  },
  {
   "cell_type": "code",
   "execution_count": null,
   "metadata": {},
   "outputs": [],
   "source": [
    "np.sort(ptbxl['height'].unique())"
   ]
  },
  {
   "cell_type": "code",
   "execution_count": null,
   "metadata": {},
   "outputs": [],
   "source": [
    "# Ristruttura i dati in modo che ogni riga rappresenti un singolo caso di malattia\n",
    "data = pd.melt(ptbxl, id_vars='height', value_vars=new_columns, var_name='disease', value_name='case')\n",
    "\n",
    "# Filtra solo i casi di malattia\n",
    "data = data[data['case'] == 1]\n",
    "\n",
    "# Crea il kdeplot utilizzando seaborn\n",
    "fig, ax1 = plt.subplots(figsize=(12, 6))\n",
    "sns.kdeplot(data=data, x='height', hue='disease', ax=ax1, palette='gray')\n",
    "\n",
    "# Crea un secondo asse y e crea un istogramma della distribuzione dell'altezza\n",
    "ax2 = ax1.twinx()\n",
    "sns.histplot(ptbxl['height'], color='gray', ax=ax2, edgecolor=None)\n",
    "\n",
    "# Aggiungi titoli e etichette agli assi\n",
    "ax1.set_title('Height distribution of diseases')\n",
    "ax1.set_xlabel('Height')\n",
    "ax1.set_ylabel('Density')\n",
    "ax2.set_ylabel('Number of cases')\n",
    "\n",
    "# Mostra solo la griglia per l'asse y del secondo asse\n",
    "ax2.grid(False)\n",
    "\n",
    "# Mostra il grafico\n",
    "plt.show()"
   ]
  },
  {
   "cell_type": "code",
   "execution_count": null,
   "metadata": {},
   "outputs": [],
   "source": [
    "ptbxl.columns"
   ]
  },
  {
   "cell_type": "markdown",
   "metadata": {},
   "source": [
    "### Validation"
   ]
  },
  {
   "cell_type": "code",
   "execution_count": null,
   "metadata": {},
   "outputs": [],
   "source": [
    "ptbxl.groupby(\"validated_by_human\").size().reset_index(name='count').set_index(\"validated_by_human\")"
   ]
  },
  {
   "cell_type": "code",
   "execution_count": null,
   "metadata": {},
   "outputs": [],
   "source": [
    "ptbxl.groupby([\"validated_by_human\", \"validated_by\"]).size().reset_index(name='count').set_index([\"validated_by_human\", \"validated_by\"])"
   ]
  },
  {
   "cell_type": "code",
   "execution_count": null,
   "metadata": {},
   "outputs": [],
   "source": [
    "ptbxl[\"validated_by\"].unique()"
   ]
  },
  {
   "cell_type": "code",
   "execution_count": null,
   "metadata": {},
   "outputs": [],
   "source": [
    "ptbxl.groupby([\"validated_by_human\", \"validated_by\"]).size().reset_index(name='count').set_index([\"validated_by_human\", \"validated_by\"])"
   ]
  },
  {
   "cell_type": "code",
   "execution_count": null,
   "metadata": {},
   "outputs": [],
   "source": [
    "plt.figure(figsize=(12, 6))\n",
    "ax = sns.countplot(data=ptbxl, x='validated_by_human', palette='gray')\n",
    "\n",
    "# Add titles and labels to the axes\n",
    "plt.title('Bar plot of validated_by_human')\n",
    "plt.xlabel('validated_by_human')\n",
    "plt.ylabel('Count')\n",
    "\n",
    "# Calculate the percentages and counts\n",
    "total = len(ptbxl['validated_by_human'])\n",
    "for p in ax.patches:\n",
    "    count = int(p.get_height())\n",
    "    percentage = '{:.1f}%'.format(100 * count/total)\n",
    "    annotation = f'{count} - ({percentage})'\n",
    "    x = p.get_x() + p.get_width()/2\n",
    "    y = p.get_y() + p.get_height() + 200\n",
    "    ax.annotate(annotation, (x, y), ha='center')\n",
    "\n",
    "\n",
    "plt.show()"
   ]
  },
  {
   "cell_type": "markdown",
   "metadata": {},
   "source": [
    "### Device"
   ]
  },
  {
   "cell_type": "code",
   "execution_count": null,
   "metadata": {},
   "outputs": [],
   "source": [
    "ptbxl.groupby(\"device\").size().reset_index(name='count').set_index(\"device\")"
   ]
  },
  {
   "cell_type": "code",
   "execution_count": null,
   "metadata": {},
   "outputs": [],
   "source": [
    "ptbxl.groupby([\"validated_by_human\", \"device\"]).size().reset_index(name='count').set_index([\"validated_by_human\", \"device\"])"
   ]
  }
 ],
 "metadata": {
  "kernelspec": {
   "display_name": "ptb",
   "language": "python",
   "name": "python3"
  },
  "language_info": {
   "codemirror_mode": {
    "name": "ipython",
    "version": 3
   },
   "file_extension": ".py",
   "mimetype": "text/x-python",
   "name": "python",
   "nbconvert_exporter": "python",
   "pygments_lexer": "ipython3",
   "version": "3.12.2"
  }
 },
 "nbformat": 4,
 "nbformat_minor": 2
}
